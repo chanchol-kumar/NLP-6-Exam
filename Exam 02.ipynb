{
 "cells": [
  {
   "cell_type": "code",
   "execution_count": 165,
   "id": "ce34d8fc",
   "metadata": {},
   "outputs": [],
   "source": [
    "import re\n",
    "import nltk\n",
    "from nltk.tokenize import word_tokenize\n",
    "from nltk.stem import WordNetLemmatizer\n",
    "from sklearn.feature_extraction.text import TfidfVectorizer\n",
    "from sklearn.metrics.pairwise import cosine_similarity as cs"
   ]
  },
  {
   "cell_type": "markdown",
   "id": "08561dbd",
   "metadata": {},
   "source": []
  },
  {
   "cell_type": "code",
   "execution_count": 166,
   "id": "7ba451db",
   "metadata": {},
   "outputs": [],
   "source": [
    "#daraz_faq = \"https://www.daraz.com.bd/wow/i/bd/help-pages/dforce-faq?scm=1003.4.icms-zebra-100046792-3154649.OTHER_5621155648_2785641&/=\"\n",
    "faq_data = {\n",
    "    \"On which orders D-Force will be eligible for bonus?\" : \" BDT 100 will be given to D-Force on customer’s first purchase (via Daraz App) made through the link shared by D-Force. BDT 50 will be given for App Installs.\",\n",
    "    \"Is bonus applicable on sales made using a voucher?\" : \"Yes. Bonus is applicable on sales as long as the paid price is equal to or above BDT 500.\",\n",
    "    \"On which order status will the D-Force be eligible for bonus?\" : \"Bonus will be given on delivered orders only.\",\n",
    "    \"When will the bonus be disbursed?\" : \"Bonus will be given on 20th of every month, given that it is equal to or more than BDT 500 (before tax deduction). Current month’s bonus will be given on the following month.\",\n",
    "    \"Why haven’t I received my bonus yet it’s been more than 2 months?\" : \"If the bonus is less than BDT 500, it is carried forward to the next month.\",\n",
    "    \"How can I withdraw my bonus?\" : \"Bonus will be transferred in provided bank account or mobile wallet (bKash and Rocket)\",\n",
    "    \"Why didn’t I get exact bonus as on Dashboard/Portal.\" : \"The bonus shown in dashboard is before tax deduction which is flat 10%. This may change over time as per government policy.\",\n",
    "    \"What does open orders mean on dashboard/homepage?\" : \"Open orders are those that have been placed but have not yet been delivered.\",\n",
    "    \"When will my portal show updated sales?\" : \"Portal updates itself after 4-5 hours.\",\n",
    "    \"How can I view reports on portal?\" : \"Go to the ‘Reporting’ tab andClick “Time” to view the time related reports. This is the most relevant and important report for D-Force.\",\n",
    "    \"Can orders be placed using Daraz App?\" : \"Yes, Orders can be place with Daraz app & D-Force has to educate the customer first on how to use the app then provide them with a link and ask them to make purchase/download app from the given link.\",\n",
    "    \"Can I provide any link for daraz app?\" : \"Only the link that you receive from your portal will get you bonuses.\",\n",
    "    \"Can I return a product?\" : \"Yes, you can return a product. You have to follow the return policy of Daraz.\",\n",
    "    \"Do you offer delivery?\" : \"No, D-Force does not offer delivery. You have to deliver the product yourself.\",\n",
    "    \"What will the link do if someone already has the app installed?\" : \"If someone has the Daraz app installed already, the link will take them to the app directly.\",\n",
    "    \"Why my id is blocked/blacklisted?\" : \"If you are already registered on any of Daraz's programs, you cannot make another ID using the same email address/phone number for D-Force\",\n",
    "    \"Orders get canceled because of following reasons:\" : \"Cancelation from customer side,Product is out of stock,System recognizes it as a fraud order.\",\n",
    "    \"Is bank account necessary for joining D-Force?\" : \"No. Besides bank account, mobile wallet (bKash/Rocket) can also be used for receiving bonus.\",\n",
    "    \"How can I sign up for D-Force if I don’t have a bank account?\" : \"You can still sign up by using mobile wallet (bKash/Rocket).\",\n",
    "    \"How can D-Force get updates regarding latest deals?\" : \"All the deals are mentioned on our Facebook page, we will email you and message you regarding latest deals and offers. You can find many more discount offers on our application as well, however they are app specific only and do not apply on web.\",\n",
    "    \"Is it important for me to educate the customer before placing order?\" : \"Yes, it is essential that you first educate your customer and tell them how to place the order, how to change the order, and how to return it as well. You have to guide them properly because the better you guide and convince them, the greater is the chance of them making purchase from Daraz.\",\n",
    "    \"Outcome of fraudulent activities?\" : \"Your ID will be blacklisted and you won’t be able to use our offers anymore.\",\n",
    "    \"Do you sell mobile phones?\" : \"Yes, we sell mobile phones.\",\n",
    "    \"Where are you located?\" : \"We are located in Dhaka,Bangladesh.\",\n",
    "    \"Can I work on Seller Center or Daraz Affiliate program while working as a D-Force?\" : \"No. You cannot join Seller Center or Daraz Affiliate program while being a part of D-Force\"\n",
    "    }"
   ]
  },
  {
   "cell_type": "code",
   "execution_count": 167,
   "id": "a350b33d",
   "metadata": {},
   "outputs": [],
   "source": [
    "def preprocess_text(text):\n",
    "    tokens = word_tokenize(text.lower())\n",
    "    text = re.sub(r'\\W', ' ', text)\n",
    "    lemmatizer = WordNetLemmatizer()\n",
    "    lemmatized_tokens = [lemmatizer.lemmatize(token) for token in tokens]\n",
    "    return \" \".join(lemmatized_tokens)"
   ]
  },
  {
   "cell_type": "code",
   "execution_count": 168,
   "id": "6dea36ec",
   "metadata": {},
   "outputs": [],
   "source": [
    "preprocessed_faq = [preprocess_text(q) for q in faq_data.keys()]"
   ]
  },
  {
   "cell_type": "code",
   "execution_count": 169,
   "metadata": {},
   "outputs": [],
   "source": [
    "TV = TfidfVectorizer()"
   ]
  },
  {
   "cell_type": "code",
   "execution_count": 170,
   "id": "8d0fe1c8",
   "metadata": {},
   "outputs": [],
   "source": [
    "tf_matrix = TV.fit_transform(preprocessed_faq)"
   ]
  },
  {
   "cell_type": "code",
   "execution_count": 171,
   "id": "da9352e3",
   "metadata": {},
   "outputs": [],
   "source": [
    "def get_faq_answer_with_similarity(text):\n",
    "    preprocessed_text = preprocess_text(text)\n",
    "\n",
    "    input_vector = TV.transform([preprocessed_text])\n",
    "\n",
    "    scores = cs(input_vector, tf_matrix)\n",
    "\n",
    "    similar_index = scores.argmax()\n",
    "\n",
    "    most_similar_question = list(faq_data.keys())[similar_index]\n",
    "    similarity_score = scores[0, similar_index]\n",
    "\n",
    "    similarity_threshold = 0.5\n",
    "\n",
    "    if similarity_score >= similarity_threshold:\n",
    "        return faq_data[most_similar_question], similarity_score\n",
    "    else:\n",
    "        return \"Sorry, I couldn’t find a suitable answer to your question.\", similarity_score"
   ]
  },
  {
   "cell_type": "markdown",
   "id": "6c00ecf7",
   "metadata": {},
   "source": [
    "# Test data"
   ]
  },
  {
   "cell_type": "code",
   "execution_count": 172,
   "id": "76e9e678",
   "metadata": {},
   "outputs": [
    {
     "name": "stdout",
     "output_type": "stream",
     "text": [
      "Go to the ‘Reporting’ tab andClick “Time” to view the time related reports. This is the most relevant and important report for D-Force.\n",
      "1.0\n"
     ]
    }
   ],
   "source": [
    "answer,score = get_faq_answer_with_similarity(\"How can I view reports on portal?\")\n",
    "print(answer)\n",
    "print(score)"
   ]
  },
  {
   "cell_type": "code",
   "execution_count": 173,
   "id": "5ee820bf",
   "metadata": {},
   "outputs": [
    {
     "name": "stdout",
     "output_type": "stream",
     "text": [
      "Yes, you can return a product. You have to follow the return policy of Daraz.\n",
      "1.0000000000000002\n"
     ]
    }
   ],
   "source": [
    "answer,score = get_faq_answer_with_similarity(\"Can I return a product?\")\n",
    "print(answer)\n",
    "print(score)"
   ]
  },
  {
   "cell_type": "code",
   "execution_count": 174,
   "id": "f00c5772",
   "metadata": {},
   "outputs": [
    {
     "name": "stdout",
     "output_type": "stream",
     "text": [
      "Yes, we sell mobile phones.\n",
      "1.0\n"
     ]
    }
   ],
   "source": [
    "answer,score = get_faq_answer_with_similarity(\"Do you sell mobile phones?\")\n",
    "print(answer)\n",
    "print(score)"
   ]
  },
  {
   "cell_type": "code",
   "execution_count": 175,
   "id": "a960e16c",
   "metadata": {},
   "outputs": [
    {
     "name": "stdout",
     "output_type": "stream",
     "text": [
      "No, D-Force does not offer delivery. You have to deliver the product yourself.\n",
      "1.0000000000000002\n"
     ]
    }
   ],
   "source": [
    "answer,score = get_faq_answer_with_similarity(\"Do you offer delivery?\")\n",
    "print(answer)\n",
    "print(score)"
   ]
  },
  {
   "cell_type": "code",
   "execution_count": 176,
   "id": "e6cfd983",
   "metadata": {},
   "outputs": [
    {
     "name": "stdout",
     "output_type": "stream",
     "text": [
      "We are located in Dhaka,Bangladesh.\n",
      "1.0000000000000002\n"
     ]
    }
   ],
   "source": [
    "answer,score = get_faq_answer_with_similarity(\"Where are you located?\")\n",
    "print(answer)\n",
    "print(score)"
   ]
  },
  {
   "cell_type": "code",
   "execution_count": 177,
   "id": "0136522a",
   "metadata": {},
   "outputs": [
    {
     "name": "stdout",
     "output_type": "stream",
     "text": [
      "Sorry, I couldn’t find a suitable answer to your question.\n",
      "0.26920413985719643\n"
     ]
    }
   ],
   "source": [
    "answer,score = get_faq_answer_with_similarity(\"What is your name?\")\n",
    "print(answer)\n",
    "print(score)"
   ]
  },
  {
   "cell_type": "code",
   "execution_count": 179,
   "id": "57252b4b",
   "metadata": {},
   "outputs": [
    {
     "name": "stdout",
     "output_type": "stream",
     "text": [
      "Bonus will be transferred in provided bank account or mobile wallet (bKash and Rocket)\n",
      "1.0\n"
     ]
    }
   ],
   "source": [
    "answer,score = get_faq_answer_with_similarity(\"How can I withdraw my bonus?\")\n",
    "print(answer)\n",
    "print(score)"
   ]
  },
  {
   "cell_type": "code",
   "execution_count": 180,
   "id": "4b75b4da",
   "metadata": {},
   "outputs": [
    {
     "name": "stdout",
     "output_type": "stream",
     "text": [
      "Sorry, I couldn’t find a suitable answer to your question.\n",
      "0.37500865758761803\n"
     ]
    }
   ],
   "source": [
    "answer,score = get_faq_answer_with_similarity(\"can I get 100% bonus?\")\n",
    "print(answer)\n",
    "print(score)"
   ]
  }
 ],
 "metadata": {
  "kernelspec": {
   "display_name": "nlp_env",
   "language": "python",
   "name": "python3"
  },
  "language_info": {
   "codemirror_mode": {
    "name": "ipython",
    "version": 3
   },
   "file_extension": ".py",
   "mimetype": "text/x-python",
   "name": "python",
   "nbconvert_exporter": "python",
   "pygments_lexer": "ipython3",
   "version": "3.12.10"
  }
 },
 "nbformat": 4,
 "nbformat_minor": 5
}
