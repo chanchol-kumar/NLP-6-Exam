{
 "cells": [
  {
   "cell_type": "code",
   "execution_count": 175,
   "id": "4762d29e",
   "metadata": {},
   "outputs": [],
   "source": [
    "import nltk\n",
    "from nltk.tokenize import sent_tokenize,word_tokenize,wordpunct_tokenize"
   ]
  },
  {
   "cell_type": "code",
   "execution_count": 176,
   "id": "1498e1ff",
   "metadata": {},
   "outputs": [],
   "source": [
    "text = \"\"\"\n",
    "Hello!!! My name is Chanchol Kumar... 😊 I’m an ECE graduate from HSTU, Dinajpur!!! 🎓 Love coding💻, \n",
    "learning new things🚀, & teamwork👥!\n",
    "Quick learner✨, work well under pressure🔥, & communicate ideas clearly🗣️!!!\n",
    "Seeking a challenging role to contribute📈!!! #ThankYou🙏\n",
    "\"\"\""
   ]
  },
  {
   "cell_type": "code",
   "execution_count": 177,
   "id": "ed5cadb0",
   "metadata": {},
   "outputs": [
    {
     "name": "stdout",
     "output_type": "stream",
     "text": [
      "\n",
      "Hello!!!\n",
      "My name is Chanchol Kumar... 😊 I’m an ECE graduate from HSTU, Dinajpur!!!\n",
      "🎓 Love coding💻, \n",
      "learning new things🚀, & teamwork👥!\n",
      "Quick learner✨, work well under pressure🔥, & communicate ideas clearly🗣️!!!\n",
      "Seeking a challenging role to contribute📈!!!\n",
      "#ThankYou🙏\n"
     ]
    }
   ],
   "source": [
    "for sentence in sent_tokenize(text):\n",
    "    print(sentence)"
   ]
  },
  {
   "cell_type": "code",
   "execution_count": 178,
   "id": "a48ec07d",
   "metadata": {},
   "outputs": [
    {
     "name": "stdout",
     "output_type": "stream",
     "text": [
      "['\\nHello!!!', 'My name is Chanchol Kumar... 😊 I’m an ECE graduate from HSTU, Dinajpur!!!', '🎓 Love coding💻, \\nlearning new things🚀, & teamwork👥!', 'Quick learner✨, work well under pressure🔥, & communicate ideas clearly🗣️!!!', 'Seeking a challenging role to contribute📈!!!', '#ThankYou🙏']\n"
     ]
    }
   ],
   "source": [
    "print(sent_tokenize(text))  "
   ]
  },
  {
   "cell_type": "code",
   "execution_count": 179,
   "id": "a06ad735",
   "metadata": {},
   "outputs": [
    {
     "name": "stdout",
     "output_type": "stream",
     "text": [
      "Hello\n",
      "!\n",
      "!\n",
      "!\n",
      "My\n",
      "name\n",
      "is\n",
      "Chanchol\n",
      "Kumar\n",
      "...\n",
      "😊\n",
      "I\n",
      "’\n",
      "m\n",
      "an\n",
      "ECE\n",
      "graduate\n",
      "from\n",
      "HSTU\n",
      ",\n",
      "Dinajpur\n",
      "!\n",
      "!\n",
      "!\n",
      "🎓\n",
      "Love\n",
      "coding💻\n",
      ",\n",
      "learning\n",
      "new\n",
      "things🚀\n",
      ",\n",
      "&\n",
      "teamwork👥\n",
      "!\n",
      "Quick\n",
      "learner✨\n",
      ",\n",
      "work\n",
      "well\n",
      "under\n",
      "pressure🔥\n",
      ",\n",
      "&\n",
      "communicate\n",
      "ideas\n",
      "clearly🗣️\n",
      "!\n",
      "!\n",
      "!\n",
      "Seeking\n",
      "a\n",
      "challenging\n",
      "role\n",
      "to\n",
      "contribute📈\n",
      "!\n",
      "!\n",
      "!\n",
      "#\n",
      "ThankYou🙏\n"
     ]
    }
   ],
   "source": [
    "for word in word_tokenize(text):\n",
    "    print(word)"
   ]
  },
  {
   "cell_type": "code",
   "execution_count": 180,
   "id": "03a494b2",
   "metadata": {},
   "outputs": [
    {
     "name": "stdout",
     "output_type": "stream",
     "text": [
      "['Hello', '!', '!', '!', 'My', 'name', 'is', 'Chanchol', 'Kumar', '...', '😊', 'I', '’', 'm', 'an', 'ECE', 'graduate', 'from', 'HSTU', ',', 'Dinajpur', '!', '!', '!', '🎓', 'Love', 'coding💻', ',', 'learning', 'new', 'things🚀', ',', '&', 'teamwork👥', '!', 'Quick', 'learner✨', ',', 'work', 'well', 'under', 'pressure🔥', ',', '&', 'communicate', 'ideas', 'clearly🗣️', '!', '!', '!', 'Seeking', 'a', 'challenging', 'role', 'to', 'contribute📈', '!', '!', '!', '#', 'ThankYou🙏']\n"
     ]
    }
   ],
   "source": [
    "print(word_tokenize(text))  "
   ]
  },
  {
   "cell_type": "code",
   "execution_count": 181,
   "id": "498f9720",
   "metadata": {},
   "outputs": [
    {
     "name": "stdout",
     "output_type": "stream",
     "text": [
      "['Hello', '!!!', 'My', 'name', 'is', 'Chanchol', 'Kumar', '...', '😊', 'I', '’', 'm', 'an', 'ECE', 'graduate', 'from', 'HSTU', ',', 'Dinajpur', '!!!', '🎓', 'Love', 'coding', '💻,', 'learning', 'new', 'things', '🚀,', '&', 'teamwork', '👥!', 'Quick', 'learner', '✨,', 'work', 'well', 'under', 'pressure', '🔥,', '&', 'communicate', 'ideas', 'clearly', '🗣️!!!', 'Seeking', 'a', 'challenging', 'role', 'to', 'contribute', '📈!!!', '#', 'ThankYou', '🙏']\n"
     ]
    }
   ],
   "source": [
    "print(wordpunct_tokenize(text))"
   ]
  },
  {
   "cell_type": "markdown",
   "id": "dd51954f",
   "metadata": {},
   "source": [
    "# Stemming"
   ]
  },
  {
   "cell_type": "code",
   "execution_count": 182,
   "id": "0d62c479",
   "metadata": {},
   "outputs": [],
   "source": [
    "from nltk.stem import PorterStemmer,RegexpStemmer,SnowballStemmer"
   ]
  },
  {
   "cell_type": "code",
   "execution_count": 183,
   "id": "e0fbb899",
   "metadata": {},
   "outputs": [],
   "source": [
    "words = [\n",
    "    \"python\", \"pythoner\", \"pythoning\", \"pythoned\", \"pythonly\",\n",
    "    \"go\", \"goes\", \"going\", \"gone\",\n",
    "    \"write\", \"writing\", \"wrote\", \"written\"\n",
    "    \"eat\", \"eating\", \"ate\", \"eaten\",\n",
    "    \"run\", \"running\", \"ran\", \"raning\",\n",
    "    \"swim\", \"swimming\", \"swam\", \"swiming\",\n",
    "    \"play\", \"playing\", \"played\", \"playd\"\n",
    "    ]"
   ]
  },
  {
   "cell_type": "code",
   "execution_count": 184,
   "id": "2142132d",
   "metadata": {},
   "outputs": [],
   "source": [
    "PS = PorterStemmer()"
   ]
  },
  {
   "cell_type": "code",
   "execution_count": 185,
   "id": "761f4e2c",
   "metadata": {},
   "outputs": [
    {
     "name": "stdout",
     "output_type": "stream",
     "text": [
      "python <-----------> python\n",
      "pythoner <-----------> python\n",
      "pythoning <-----------> python\n",
      "pythoned <-----------> python\n",
      "pythonly <-----------> pythonli\n",
      "go <-----------> go\n",
      "goes <-----------> goe\n",
      "going <-----------> go\n",
      "gone <-----------> gone\n",
      "write <-----------> write\n",
      "writing <-----------> write\n",
      "wrote <-----------> wrote\n",
      "writteneat <-----------> writteneat\n",
      "eating <-----------> eat\n",
      "ate <-----------> ate\n",
      "eaten <-----------> eaten\n",
      "run <-----------> run\n",
      "running <-----------> run\n",
      "ran <-----------> ran\n",
      "raning <-----------> rane\n",
      "swim <-----------> swim\n",
      "swimming <-----------> swim\n",
      "swam <-----------> swam\n",
      "swiming <-----------> swime\n",
      "play <-----------> play\n",
      "playing <-----------> play\n",
      "played <-----------> play\n",
      "playd <-----------> playd\n"
     ]
    }
   ],
   "source": [
    "for word in words:\n",
    "    print(f\"{word} <-----------> {PS.stem(word)}\")"
   ]
  },
  {
   "cell_type": "code",
   "execution_count": 186,
   "id": "238d7524",
   "metadata": {},
   "outputs": [
    {
     "name": "stdout",
     "output_type": "stream",
     "text": [
      "congratulation <-----------> congratul\n",
      "setting <-----------> set\n"
     ]
    }
   ],
   "source": [
    "print(f\"congratulation <-----------> {PS.stem('congratulation')}\")\n",
    "print(f\"setting <-----------> {PS.stem('setting')}\")"
   ]
  },
  {
   "cell_type": "code",
   "execution_count": 187,
   "id": "6f56bb4e",
   "metadata": {},
   "outputs": [],
   "source": [
    "reg = RegexpStemmer('ing$|ed$|es$|s$|ly$|er$|est$', min=4)"
   ]
  },
  {
   "cell_type": "code",
   "execution_count": 188,
   "id": "55e21107",
   "metadata": {},
   "outputs": [
    {
     "name": "stdout",
     "output_type": "stream",
     "text": [
      "python <-----------> python\n",
      "pythoner <-----------> python\n",
      "pythoning <-----------> python\n",
      "pythoned <-----------> python\n",
      "pythonly <-----------> python\n",
      "go <-----------> go\n",
      "goes <-----------> go\n",
      "going <-----------> go\n",
      "gone <-----------> gone\n",
      "write <-----------> write\n",
      "writing <-----------> writ\n",
      "wrote <-----------> wrote\n",
      "writteneat <-----------> writteneat\n",
      "eating <-----------> eat\n",
      "ate <-----------> ate\n",
      "eaten <-----------> eaten\n",
      "run <-----------> run\n",
      "running <-----------> runn\n",
      "ran <-----------> ran\n",
      "raning <-----------> ran\n",
      "swim <-----------> swim\n",
      "swimming <-----------> swimm\n",
      "swam <-----------> swam\n",
      "swiming <-----------> swim\n",
      "play <-----------> play\n",
      "playing <-----------> play\n",
      "played <-----------> play\n",
      "playd <-----------> playd\n"
     ]
    }
   ],
   "source": [
    "for word in words:\n",
    "    print(f\"{word} <-----------> {reg.stem(word)}\")"
   ]
  },
  {
   "cell_type": "code",
   "execution_count": 189,
   "id": "1667e5fe",
   "metadata": {},
   "outputs": [
    {
     "name": "stdout",
     "output_type": "stream",
     "text": [
      "congratulation <-----------> congratulation\n",
      "setting <-----------> sett\n"
     ]
    }
   ],
   "source": [
    "print(f\"congratulation <-----------> {reg.stem('congratulation')}\")\n",
    "print(f\"setting <-----------> {reg.stem('setting')}\")"
   ]
  },
  {
   "cell_type": "code",
   "execution_count": 190,
   "id": "0d3dfbb0",
   "metadata": {},
   "outputs": [
    {
     "name": "stdout",
     "output_type": "stream",
     "text": [
      "python <-----------> python\n",
      "pythoner <-----------> python\n",
      "pythoning <-----------> python\n",
      "pythoned <-----------> python\n",
      "pythonly <-----------> python\n",
      "go <-----------> go\n",
      "goes <-----------> go\n",
      "going <-----------> go\n",
      "gone <-----------> gone\n",
      "write <-----------> write\n",
      "writing <-----------> writ\n",
      "wrote <-----------> wrote\n",
      "writteneat <-----------> writteneat\n",
      "eating <-----------> eat\n",
      "ate <-----------> ate\n",
      "eaten <-----------> eaten\n",
      "run <-----------> run\n",
      "running <-----------> runn\n",
      "ran <-----------> ran\n",
      "raning <-----------> ran\n",
      "swim <-----------> swim\n",
      "swimming <-----------> swimm\n",
      "swam <-----------> swam\n",
      "swiming <-----------> swim\n",
      "play <-----------> play\n",
      "playing <-----------> play\n",
      "played <-----------> play\n",
      "playd <-----------> playd\n"
     ]
    }
   ],
   "source": [
    "ss = SnowballStemmer(\"english\")\n",
    "\n",
    "for word in words:\n",
    "    print(f\"{word} <-----------> {reg.stem(word)}\")"
   ]
  },
  {
   "cell_type": "code",
   "execution_count": 191,
   "id": "a182b1eb",
   "metadata": {},
   "outputs": [
    {
     "name": "stdout",
     "output_type": "stream",
     "text": [
      "congratulation <-----------> congratul\n",
      "setting <-----------> set\n"
     ]
    }
   ],
   "source": [
    "print(f\"congratulation <-----------> {ss.stem('congratulation')}\")\n",
    "print(f\"setting <-----------> {ss.stem('setting')}\")"
   ]
  },
  {
   "cell_type": "code",
   "execution_count": null,
   "id": "92ed2a06",
   "metadata": {},
   "outputs": [],
   "source": []
  }
 ],
 "metadata": {
  "kernelspec": {
   "display_name": "nlp",
   "language": "python",
   "name": "python3"
  },
  "language_info": {
   "codemirror_mode": {
    "name": "ipython",
    "version": 3
   },
   "file_extension": ".py",
   "mimetype": "text/x-python",
   "name": "python",
   "nbconvert_exporter": "python",
   "pygments_lexer": "ipython3",
   "version": "3.8.20"
  }
 },
 "nbformat": 4,
 "nbformat_minor": 5
}
